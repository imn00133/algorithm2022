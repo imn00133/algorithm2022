{
 "cells": [
  {
   "cell_type": "markdown",
   "id": "3f4087f7-f231-47ed-b564-c3589eca009d",
   "metadata": {},
   "source": [
    "```3-1``` 거스름돈"
   ]
  },
  {
   "cell_type": "code",
   "execution_count": 13,
   "id": "16eb3efa-463c-41c6-aa82-e9ac697acd61",
   "metadata": {},
   "outputs": [
    {
     "name": "stdin",
     "output_type": "stream",
     "text": [
      " 1260\n"
     ]
    },
    {
     "data": {
      "text/plain": [
       "6"
      ]
     },
     "execution_count": 13,
     "metadata": {},
     "output_type": "execute_result"
    }
   ],
   "source": [
    "N = int(input())\n",
    "assert N >= 0 and N % 10 == 0\n",
    "\n",
    "count = 0\n",
    "for coin in [500, 100, 50, 10]:\n",
    "    _count = N // coin\n",
    "    N -= coin * _count\n",
    "    count += _count\n",
    "count"
   ]
  },
  {
   "cell_type": "markdown",
   "id": "3892acb8-33b2-4f93-ba22-3d16bb28e15d",
   "metadata": {},
   "source": [
    "`3-2` 큰 수의 법칙"
   ]
  },
  {
   "cell_type": "code",
   "execution_count": 39,
   "id": "11b310ec-4469-46c4-9915-05b513cdb871",
   "metadata": {},
   "outputs": [
    {
     "name": "stdin",
     "output_type": "stream",
     "text": [
      " 5 8 3\n",
      " 2 4 5 4 6\n"
     ]
    },
    {
     "data": {
      "text/plain": [
       "46"
      ]
     },
     "execution_count": 39,
     "metadata": {},
     "output_type": "execute_result"
    }
   ],
   "source": [
    "n, m, k = [int(i) for i in input().split()]\n",
    "lst = [int(i) for i in input().split()]\n",
    "assert len(lst) == n\n",
    "\n",
    "lst.sort(reverse=True)\n",
    "second_largest_cnt = m // (k + 1)\n",
    "ans = (m - second_largest_cnt) * lst[0] + second_largest_cnt * lst[1]\n",
    "ans"
   ]
  },
  {
   "cell_type": "markdown",
   "id": "0e712b0a-4688-4b43-872f-7188774b4fa0",
   "metadata": {},
   "source": [
    "```3-3``` 숫자 카드 게임"
   ]
  },
  {
   "cell_type": "code",
   "execution_count": 41,
   "id": "bf5f9a06-3c53-4a06-a1e7-167eee73b342",
   "metadata": {},
   "outputs": [
    {
     "name": "stdin",
     "output_type": "stream",
     "text": [
      " 2 4\n",
      " 7 3 1 8\n",
      " 3 3 3 4\n"
     ]
    },
    {
     "data": {
      "text/plain": [
       "3"
      ]
     },
     "execution_count": 41,
     "metadata": {},
     "output_type": "execute_result"
    }
   ],
   "source": [
    "n, m = [int(i) for i in input().split()]\n",
    "\n",
    "lst = []\n",
    "for _ in range(n):\n",
    "    _lst = [int(i) for i in input().split()]\n",
    "    lst.append(min(_lst))\n",
    "max(lst)"
   ]
  },
  {
   "cell_type": "markdown",
   "id": "0557e15a-516e-4bc2-85b7-bde007cb4143",
   "metadata": {},
   "source": [
    "`3-4` 1이 될 때까지"
   ]
  },
  {
   "cell_type": "code",
   "execution_count": 46,
   "id": "0b249702-475e-49ca-8566-f0852a1ecc65",
   "metadata": {},
   "outputs": [
    {
     "name": "stdin",
     "output_type": "stream",
     "text": [
      " 25 3\n"
     ]
    },
    {
     "data": {
      "text/plain": [
       "6"
      ]
     },
     "execution_count": 46,
     "metadata": {},
     "output_type": "execute_result"
    }
   ],
   "source": [
    "n, k = [int(i) for i in input().split()]\n",
    "\n",
    "count = 0\n",
    "while n != 1:\n",
    "    if n % k == 0:\n",
    "        n /= k\n",
    "    else:\n",
    "        n -= 1\n",
    "    count += 1\n",
    "count"
   ]
  }
 ],
 "metadata": {
  "kernelspec": {
   "display_name": "Python 3 (ipykernel)",
   "language": "python",
   "name": "python3"
  },
  "language_info": {
   "codemirror_mode": {
    "name": "ipython",
    "version": 3
   },
   "file_extension": ".py",
   "mimetype": "text/x-python",
   "name": "python",
   "nbconvert_exporter": "python",
   "pygments_lexer": "ipython3",
   "version": "3.8.12"
  }
 },
 "nbformat": 4,
 "nbformat_minor": 5
}
