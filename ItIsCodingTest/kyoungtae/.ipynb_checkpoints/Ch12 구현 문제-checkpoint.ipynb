{
 "cells": [
  {
   "cell_type": "markdown",
   "id": "7904dbd4-6769-4dc2-bbcf-d687f6ba05b2",
   "metadata": {},
   "source": [
    "`07` 럭키 스트레이트"
   ]
  },
  {
   "cell_type": "code",
   "execution_count": 15,
   "id": "60211e84-5954-426a-b547-0bd80fa1731e",
   "metadata": {},
   "outputs": [
    {
     "name": "stdin",
     "output_type": "stream",
     "text": [
      " 123402\n"
     ]
    },
    {
     "name": "stdout",
     "output_type": "stream",
     "text": [
      "LUCKY\n"
     ]
    }
   ],
   "source": [
    "n = input()\n",
    "l = len(n) // 2\n",
    "if sum([int(i) for i in n[:l]]) == sum([int(i) for i in n[l:]]):\n",
    "    print('LUCKY')\n",
    "else:\n",
    "    print('READY')"
   ]
  },
  {
   "cell_type": "markdown",
   "id": "ea1c18f5-d860-479e-b6f2-5e6612644306",
   "metadata": {},
   "source": [
    "`09` 문자열 압축   \n",
    "```python\n",
    "['abc', 'abc', 'abc', 'aaa', 'def', 'def']\n",
    "conti_li = [3,2]\n",
    "score = (글자수) * (연속한 횟수 -1) - (앞에 붙는 숫자의 길이)\n",
    "```"
   ]
  },
  {
   "cell_type": "code",
   "execution_count": 54,
   "id": "61421aaa-fbe1-45c2-843c-ac5c7cd019d2",
   "metadata": {},
   "outputs": [],
   "source": [
    "import math\n",
    "\n",
    "def solution(s):\n",
    "    max_score = 0 # 압축으로 이득 본 글자 수\n",
    "\n",
    "    for l in range(1, len(s) // 2 + 1):\n",
    "        conti_li = []\n",
    "        conti = 1\n",
    "        for i in range(math.ceil(len(s) / l)): # l개씩 끊어읽기\n",
    "            piece = s[i * l:(i + 1) * l]\n",
    "            if i == 0:\n",
    "                prev = piece\n",
    "                continue\n",
    "\n",
    "            if piece == prev:\n",
    "                conti += 1\n",
    "            else:\n",
    "                if conti > 1:\n",
    "                    conti_li.append(conti)\n",
    "                conti = 1\n",
    "                prev = piece\n",
    "\n",
    "        if conti > 1:\n",
    "            conti_li.append(conti) # 마지막에도 연속한 게 있으면 추가\n",
    "\n",
    "        score = 0\n",
    "        for conti in conti_li:\n",
    "            score += l * (conti - 1)\n",
    "            score -= len(str(conti))\n",
    "        if score > max_score:\n",
    "            max_score = score\n",
    "\n",
    "    return len(s) - max_score"
   ]
  },
  {
   "cell_type": "code",
   "execution_count": 55,
   "id": "7df1121b-f3b3-4a34-8fe6-cf6127a3072d",
   "metadata": {},
   "outputs": [
    {
     "name": "stdin",
     "output_type": "stream",
     "text": [
      " aabbaccc\n"
     ]
    },
    {
     "data": {
      "text/plain": [
       "7"
      ]
     },
     "execution_count": 55,
     "metadata": {},
     "output_type": "execute_result"
    }
   ],
   "source": [
    "s = input()\n",
    "solution(s)"
   ]
  },
  {
   "cell_type": "markdown",
   "id": "7b1d482d-3027-4b16-9f44-bfc762bd7028",
   "metadata": {},
   "source": [
    "`11` 뱀"
   ]
  },
  {
   "cell_type": "code",
   "execution_count": 68,
   "id": "59be6104-e178-4a40-8ae8-001065413b30",
   "metadata": {},
   "outputs": [
    {
     "name": "stdin",
     "output_type": "stream",
     "text": [
      " 10\n",
      " 4\n",
      " 1 2\n",
      " 1 3\n",
      " 1 4\n",
      " 1 5\n",
      " 4\n",
      " 8 D\n",
      " 10 D\n",
      " 11 D\n",
      " 13 L\n"
     ]
    },
    {
     "name": "stdout",
     "output_type": "stream",
     "text": [
      "21\n"
     ]
    }
   ],
   "source": [
    "import operator\n",
    "\n",
    "DIRECTIONS = [(0, 1), (1, 0), (0, -1), (-1, 0)]\n",
    "\n",
    "\n",
    "class snake():\n",
    "    \n",
    "    def __init__(self):\n",
    "        \n",
    "        self.coords = [(0, 0)]\n",
    "        self.direction = 0\n",
    "        self.dead = False\n",
    "        \n",
    "        \n",
    "    def move(self, board):\n",
    "        \n",
    "        head = tuple(map(operator.add, self.coords[0], DIRECTIONS[self.direction]))\n",
    "        if min(head) < 0 or max(head) >= board.n or head in self.coords: # 벽 또는 자신의 몸을 만난 경우\n",
    "            self.dead = True\n",
    "        elif board.state[head[0]][head[1]] == 1: # 사과를 만난 경우\n",
    "            self.coords.insert(0, head)\n",
    "            board.erase_apple(head)\n",
    "        else:\n",
    "            self.coords.insert(0, head)\n",
    "            del self.coords[-1] # remove tail\n",
    "                    \n",
    "                \n",
    "    def rotate(self, ld):\n",
    "        if ld == 'D':\n",
    "            self.direction = (self.direction + 1) % 4\n",
    "        elif ld == 'L':\n",
    "            self.direction = (self.direction - 1) % 4\n",
    "    \n",
    "\n",
    "    \n",
    "class board():\n",
    "    \n",
    "    def __init__(self, n, k_coords):\n",
    "        \n",
    "        self.n = n\n",
    "        self.state = [[0 for i in range(n)] for i in range(n)]\n",
    "        for y, x in k_coords:\n",
    "            self.state[y - 1][x - 1] = 1\n",
    "               \n",
    "                \n",
    "    def erase_apple(self, coord):\n",
    "        \n",
    "        self.state[coord[0]][coord[1]] = 0\n",
    "\n",
    "\n",
    "def play_game(snake, board, rotate_plan):\n",
    "    passed_time = 0\n",
    "\n",
    "    while not snake.dead:\n",
    "        snake.move(board)\n",
    "        passed_time += 1\n",
    "\n",
    "        if rotate_plan and passed_time == rotate_plan[0][0]:\n",
    "            snake.rotate(rotate_plan.pop(0)[1])\n",
    "        \n",
    "    return passed_time\n",
    "\n",
    "\n",
    "n = int(input())\n",
    "k = int(input())\n",
    "k_coords = [tuple([int(i) for i in input().split()]) for _ in range(k)]\n",
    "\n",
    "l = int(input())\n",
    "rotate_plan = [[i for i in input().split()] for _ in range(l)]\n",
    "rotate_plan = [(int(i[0]), i[1]) for i in rotate_plan]\n",
    "\n",
    "snake = snake()\n",
    "board = board(n, k_coords)\n",
    "print(play_game(snake, board, rotate_plan))"
   ]
  },
  {
   "cell_type": "markdown",
   "id": "5ba89c31-a1b2-4174-adbb-39822d9f3856",
   "metadata": {},
   "source": [
    "`13` 치킨 배달"
   ]
  },
  {
   "cell_type": "code",
   "execution_count": 69,
   "id": "c16c2411-6680-4814-b605-a5e800b42615",
   "metadata": {},
   "outputs": [],
   "source": [
    "n, m = 5, 3\n",
    "map_state = [[0, 0, 1, 0, 0],\n",
    "             [0, 0, 2, 0, 1],\n",
    "             [0, 1, 2, 0, 0],\n",
    "             [0, 0, 1, 0, 0],\n",
    "             [0, 0, 0, 0, 2]]"
   ]
  },
  {
   "cell_type": "code",
   "execution_count": 85,
   "id": "73de978b-85ff-4bd0-803f-c25501c4a9af",
   "metadata": {},
   "outputs": [],
   "source": [
    "from itertools import combinations\n",
    "\n",
    "def cal_dist(house, chicken):\n",
    "    return abs(house[0] - chicken[0]) + abs(house[1] - chicken[1])\n",
    "\n",
    "\n",
    "def sum_dist(chickens_candidates):\n",
    "    ans = 0\n",
    "    for house in houses:\n",
    "        ans += min([cal_dist(house, chicken) for chicken in chickens_candidates])\n",
    "    return ans\n",
    "\n",
    "\n",
    "n, m = [int(i) for i in input().split()]\n",
    "map_state = [[int(i) for i in input().split()] for row in range(n)]\n",
    "\n",
    "\n",
    "chickens = []\n",
    "houses = []\n",
    "for y, row in enumerate(map_state):\n",
    "    for x, val in enumerate(row):\n",
    "        if val == 1:\n",
    "            houses.append((y, x))\n",
    "        if val == 2:\n",
    "            chickens.append((y, x))\n",
    "\n",
    "chicken_dist = min([sum_dist(chickens_candidates) for chickens_candidates in combinations(chickens, m)])\n",
    "print(chicken_dist)"
   ]
  }
 ],
 "metadata": {
  "kernelspec": {
   "display_name": "Python 3 (ipykernel)",
   "language": "python",
   "name": "python3"
  },
  "language_info": {
   "codemirror_mode": {
    "name": "ipython",
    "version": 3
   },
   "file_extension": ".py",
   "mimetype": "text/x-python",
   "name": "python",
   "nbconvert_exporter": "python",
   "pygments_lexer": "ipython3",
   "version": "3.8.12"
  }
 },
 "nbformat": 4,
 "nbformat_minor": 5
}
