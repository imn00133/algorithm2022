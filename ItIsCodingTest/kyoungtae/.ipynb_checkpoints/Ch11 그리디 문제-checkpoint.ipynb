{
 "cells": [
  {
   "cell_type": "markdown",
   "id": "3f4087f7-f231-47ed-b564-c3589eca009d",
   "metadata": {},
   "source": [
    "`11-1` 모험가 길드"
   ]
  },
  {
   "cell_type": "code",
   "execution_count": 269,
   "id": "16c72a77-ace4-41a9-93d6-eb17203b8e7d",
   "metadata": {
    "tags": []
   },
   "outputs": [
    {
     "name": "stdin",
     "output_type": "stream",
     "text": [
      " 3\n",
      " 2 3 3\n"
     ]
    },
    {
     "name": "stdout",
     "output_type": "stream",
     "text": [
      "1\n"
     ]
    }
   ],
   "source": [
    "n = int(input())\n",
    "lst = [int(i) for i in input().split()]\n",
    "\n",
    "lst.sort()\n",
    "n_group = 0\n",
    "while len(lst) > 0:\n",
    "    if lst[0] <= len(lst) and lst[lst[0] - 1] <= len(lst):  # [2, 3, 3]\n",
    "        lst = lst[lst[0]:]\n",
    "        n_group += 1\n",
    "    else:\n",
    "        break\n",
    "\n",
    "print(n_group)"
   ]
  },
  {
   "cell_type": "markdown",
   "id": "607b724b-7199-470c-a453-b46256a52187",
   "metadata": {},
   "source": [
    "`11-2` 곱하기 혹은 더하기"
   ]
  },
  {
   "cell_type": "code",
   "execution_count": 37,
   "id": "fbbb09ac-a91c-4caa-a5d0-d2e0a4eb2653",
   "metadata": {},
   "outputs": [
    {
     "name": "stdin",
     "output_type": "stream",
     "text": [
      " 567\n"
     ]
    },
    {
     "data": {
      "text/plain": [
       "210"
      ]
     },
     "execution_count": 37,
     "metadata": {},
     "output_type": "execute_result"
    }
   ],
   "source": [
    "s = input()\n",
    "\n",
    "result = int(s[0])\n",
    "\n",
    "for num in s[1:]:\n",
    "    n = int(num)\n",
    "    if n <= 1 or result <= 1:\n",
    "        result += n\n",
    "    else:\n",
    "        result *= n\n",
    "result        "
   ]
  },
  {
   "cell_type": "markdown",
   "id": "681d317c-4eaa-4c3e-9447-0cd2a6bcc806",
   "metadata": {},
   "source": [
    "`11-3` 문자열 뒤집기"
   ]
  },
  {
   "cell_type": "code",
   "execution_count": 52,
   "id": "d6ff9216-f034-45d9-80d8-914536a8ce4a",
   "metadata": {},
   "outputs": [
    {
     "name": "stdin",
     "output_type": "stream",
     "text": [
      " 11010\n"
     ]
    },
    {
     "data": {
      "text/plain": [
       "2"
      ]
     },
     "execution_count": 52,
     "metadata": {},
     "output_type": "execute_result"
    }
   ],
   "source": [
    "s = input()\n",
    "\n",
    "change = 0\n",
    "prev = s[0]\n",
    "\n",
    "for c in s[1:]:\n",
    "    if c != prev:\n",
    "        change += 1\n",
    "    prev = c\n",
    "\n",
    "(change + 1) // 2"
   ]
  },
  {
   "cell_type": "code",
   "execution_count": 53,
   "id": "c014abc7-e05b-405f-b500-2e855f490073",
   "metadata": {},
   "outputs": [
    {
     "name": "stdin",
     "output_type": "stream",
     "text": [
      " 11010\n"
     ]
    },
    {
     "name": "stdout",
     "output_type": "stream",
     "text": [
      "2\n"
     ]
    }
   ],
   "source": [
    "# 백준 숏코딩 파이썬 1등\n",
    "v=input().count\n",
    "print((v('10')+v('01')+1)//2)"
   ]
  },
  {
   "cell_type": "markdown",
   "id": "9776a400-bd81-465b-b7da-9085e43507d3",
   "metadata": {},
   "source": [
    "`11-4` 만들 수 없는 금액"
   ]
  },
  {
   "cell_type": "code",
   "execution_count": 101,
   "id": "ca1cafc5-6b69-4250-8e7e-fbe7922798d6",
   "metadata": {},
   "outputs": [
    {
     "name": "stdin",
     "output_type": "stream",
     "text": [
      " 5\n",
      " 1 2 4 8 15\n"
     ]
    },
    {
     "data": {
      "text/plain": [
       "31"
      ]
     },
     "execution_count": 101,
     "metadata": {},
     "output_type": "execute_result"
    }
   ],
   "source": [
    "from itertools import combinations\n",
    "\n",
    "n = int(input())\n",
    "lst = [int(i) for i in input().split()]\n",
    "\n",
    "\n",
    "def is_makable(target):\n",
    "    for i in range(len(lst)):\n",
    "        combination = [sum(pair) for pair in list(combinations(lst, i + 1))]\n",
    "        if target in combination: return True\n",
    "    \n",
    "    return False\n",
    "\n",
    "target = 1\n",
    "while(True):\n",
    "    if not is_makable(target):\n",
    "        break\n",
    "    target += 1\n",
    "\n",
    "target"
   ]
  },
  {
   "cell_type": "code",
   "execution_count": 107,
   "id": "7bfe4f6d-0953-46b0-8087-31eebdad33df",
   "metadata": {},
   "outputs": [
    {
     "name": "stdin",
     "output_type": "stream",
     "text": [
      " 2\n",
      " 1 2\n"
     ]
    },
    {
     "data": {
      "text/plain": [
       "4"
      ]
     },
     "execution_count": 107,
     "metadata": {},
     "output_type": "execute_result"
    }
   ],
   "source": [
    "# 모범답안 참고\n",
    "n = int(input())\n",
    "lst = [int(i) for i in input().split()]\n",
    "\n",
    "lst.sort()\n",
    "target = 1\n",
    "for num in lst:\n",
    "    if num > target: \n",
    "        break\n",
    "    target += num\n",
    "target"
   ]
  },
  {
   "cell_type": "markdown",
   "id": "613189dc-045b-42f5-a810-a800beeeb6b3",
   "metadata": {},
   "source": [
    "`11-5` 볼링공 고르기"
   ]
  },
  {
   "cell_type": "code",
   "execution_count": 146,
   "id": "01f4ef30-b1f3-4d7c-bc0d-6dea5714d183",
   "metadata": {},
   "outputs": [
    {
     "name": "stdin",
     "output_type": "stream",
     "text": [
      " 8 5\n",
      " 1 5 4 3 2 4 5 2\n"
     ]
    },
    {
     "data": {
      "text/plain": [
       "25"
      ]
     },
     "execution_count": 146,
     "metadata": {},
     "output_type": "execute_result"
    }
   ],
   "source": [
    "import numpy as np\n",
    "\n",
    "n, m = [int(i) for i in input().split()]\n",
    "lst = np.array([int(i) for i in input().split()])\n",
    "\n",
    "ans = 0\n",
    "for num in lst: # [1 2 2 3 3 ]\n",
    "    ans += (lst > num).sum()\n",
    "ans"
   ]
  },
  {
   "cell_type": "markdown",
   "id": "0331764f-1894-49fd-8072-2a55f1495d73",
   "metadata": {},
   "source": [
    "`11-6` 무지의 먹방 라이브"
   ]
  },
  {
   "cell_type": "code",
   "execution_count": 1,
   "id": "f1a218fd-47e4-43b3-9a50-a5adf160828d",
   "metadata": {},
   "outputs": [],
   "source": [
    "food_times = [3,1,2]\n",
    "k = 5"
   ]
  },
  {
   "cell_type": "markdown",
   "id": "7ddaf45d-06ad-42fa-b676-1668439e1867",
   "metadata": {
    "jp-MarkdownHeadingCollapsed": true,
    "tags": []
   },
   "source": [
    "##### 실패"
   ]
  },
  {
   "cell_type": "code",
   "execution_count": 218,
   "id": "ed15e5dc-bcce-4542-91e0-91963fbe2805",
   "metadata": {},
   "outputs": [
    {
     "data": {
      "text/plain": [
       "1"
      ]
     },
     "execution_count": 218,
     "metadata": {},
     "output_type": "execute_result"
    }
   ],
   "source": [
    "import pandas as pd\n",
    "\n",
    "def solution(food_times, k):\n",
    "    df = pd.Series(food_times)\n",
    "    while True:\n",
    "        if len(df) <= k:\n",
    "            df = df - 1\n",
    "            k -= len(df)\n",
    "            df = df.loc[df > 0]\n",
    "            if len(df) == 0:\n",
    "                return -1\n",
    "        else:\n",
    "            return df.index[k] + 1\n",
    "\n",
    "solution(food_times, k)"
   ]
  },
  {
   "cell_type": "code",
   "execution_count": 216,
   "id": "bad1b8e4-be53-4d20-b3f3-94c599bcd05f",
   "metadata": {},
   "outputs": [
    {
     "data": {
      "text/plain": [
       "1"
      ]
     },
     "execution_count": 216,
     "metadata": {},
     "output_type": "execute_result"
    }
   ],
   "source": [
    "# 완전탐색\n",
    "def solution(food_times, k):\n",
    "    while True:\n",
    "        cnt = 0\n",
    "        for i in range(len(food_times)):\n",
    "            if food_times[i] > 0:\n",
    "                if k == 0: return i + 1\n",
    "                food_times[i] -= 1\n",
    "                k -= 1\n",
    "                cnt += 1\n",
    "        if cnt == 0: return -1\n",
    "\n",
    "solution(food_times, k)        "
   ]
  },
  {
   "cell_type": "code",
   "execution_count": 2,
   "id": "faded5dc-de67-439c-b7a9-7b4077e1e4b1",
   "metadata": {},
   "outputs": [
    {
     "data": {
      "text/plain": [
       "1"
      ]
     },
     "execution_count": 2,
     "metadata": {},
     "output_type": "execute_result"
    }
   ],
   "source": [
    "# list 생성 시 시간 많이 소요\n",
    "def solution(food_times, k):\n",
    "    lst = [pair for pair in enumerate(food_times)]\n",
    "    \n",
    "    while lst:\n",
    "        leng = len(lst)\n",
    "        if leng <= k:\n",
    "            min_val = min([pair[1] for pair in lst])\n",
    "            rep = min(min_val, k // leng)  # [ 2 2 3 3 4 ] 9\n",
    "            \n",
    "            lst = [(pair[0], pair[1] - rep) for pair in lst]\n",
    "            k -= leng * rep\n",
    "            lst = [pair for pair in lst if pair[1] > 0]\n",
    "        else:\n",
    "            return lst[k][0] + 1\n",
    "        \n",
    "        leng = len(lst)\n",
    "    return -1\n",
    "\n",
    "solution(food_times, k)"
   ]
  },
  {
   "cell_type": "code",
   "execution_count": 3,
   "id": "5cb1b758-db91-42f7-839e-cdff7c6be3ea",
   "metadata": {},
   "outputs": [
    {
     "data": {
      "text/plain": [
       "1"
      ]
     },
     "execution_count": 3,
     "metadata": {},
     "output_type": "execute_result"
    }
   ],
   "source": [
    "def solution(food_times, k):\n",
    "    lst = [pair for pair in enumerate(food_times)]\n",
    "    leng = len(lst)\n",
    "    while leng > 0:\n",
    "        if leng <= k:\n",
    "            lst = [(pair[0], pair[1] - 1) for pair in lst]\n",
    "            k -= leng\n",
    "            lst = [pair for pair in lst if pair[1] > 0]\n",
    "        else:\n",
    "            return lst[k][0] + 1\n",
    "        \n",
    "        leng = len(lst)\n",
    "    return -1\n",
    "\n",
    "solution(food_times, k)"
   ]
  },
  {
   "cell_type": "markdown",
   "id": "88b009c2-7a37-47b7-87af-ef78bf5e80cf",
   "metadata": {
    "jp-MarkdownHeadingCollapsed": true,
    "tags": []
   },
   "source": [
    "##### 성공"
   ]
  },
  {
   "cell_type": "code",
   "execution_count": 149,
   "id": "8a30cd08-22f6-4b09-be79-330218b8634f",
   "metadata": {},
   "outputs": [],
   "source": [
    "def solution(food_times, k):\n",
    "    lst = [pair for pair in enumerate(food_times)] # index와 음식 양을 tuple로 묶어 list로 만듦\n",
    "    lst.sort(key=lambda x:x[1]) # 음식 양 오름차순으로 정렬\n",
    "\n",
    "    food_num = len(lst) # 전체 음식 종류\n",
    "    finished_food = 0 # 완식한 음식 종류\n",
    "    passed_time = 0 # 누적 소요된 시간\n",
    "    passed_cycle = 0 # 회전판의 회전 수. 남아있는 음식의 양을 계산할 때 이용\n",
    "\n",
    "    while True:\n",
    "        if food_num - finished_food <= 0: # 남은 음식이 없는 경우\n",
    "                return -1\n",
    "            \n",
    "        if k - passed_time >= food_num - finished_food: # 남은 음식 종류보다 남은 시간이 더 많으면 최소 한 바퀴는 돌릴 수 있다.\n",
    "            \n",
    "            m = lst[finished_food][1] - passed_cycle # 가장 적은 음식의 양\n",
    "            l = (k - passed_time) // (food_num - finished_food) # 남은 시간을 남은 음식 종류로 나눈 몫.\n",
    "            if m <= l: # 음식 하나를 끝장낸 경우\n",
    "                num_cycle = m # 회전판 돌릴 횟수(남은 음식을 모두 이만큼(=최소 음식량 m)씩 먹는다)\n",
    "                food_num_changed = True # 남은 음식의 수가 바뀐다.\n",
    "            else:\n",
    "                num_cycle = l # 회전판 돌릴 횟수(남은 음식을 모두 이만큼(=시간이 허용하는만큼 많이 l)씩 먹는다)\n",
    "                food_num_changed = False\n",
    "            \n",
    "            passed_time += (food_num - finished_food) * num_cycle\n",
    "            passed_cycle += num_cycle\n",
    "            \n",
    "            if food_num_changed: # 음식 하나를 끝장낸 경우\n",
    "                finished_food += 1\n",
    "                while True: # 동시에 여러 음식이 끝장난 경우 index를 증가시켜가며 남은 음식을 찾는다\n",
    "                    if food_num - finished_food <= 0: # 다 끝장내버린 경우\n",
    "                        return -1\n",
    "                    if lst[finished_food][1] - passed_cycle > 0: # 남아있는 음식을 찾으면 반복 종료\n",
    "                        break\n",
    "                    finished_food += 1\n",
    "\n",
    "\n",
    "        else: # 한 바퀴 못 돌리는 경우 남은 음식 중에서 index를 증가시키기\n",
    "            remain_lst = lst[finished_food:] # 남은 음식들의 list\n",
    "            remain_lst.sort() # index 순으로 정렬\n",
    "            return remain_lst[k - passed_time][0] + 1\n",
    "        \n"
   ]
  },
  {
   "cell_type": "code",
   "execution_count": null,
   "id": "7d65dd40-9ff2-4b09-a856-9df6e7acb999",
   "metadata": {},
   "outputs": [],
   "source": []
  }
 ],
 "metadata": {
  "kernelspec": {
   "display_name": "Python 3 (ipykernel)",
   "language": "python",
   "name": "python3"
  },
  "language_info": {
   "codemirror_mode": {
    "name": "ipython",
    "version": 3
   },
   "file_extension": ".py",
   "mimetype": "text/x-python",
   "name": "python",
   "nbconvert_exporter": "python",
   "pygments_lexer": "ipython3",
   "version": "3.8.12"
  }
 },
 "nbformat": 4,
 "nbformat_minor": 5
}
