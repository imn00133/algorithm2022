{
 "cells": [
  {
   "cell_type": "markdown",
   "id": "9267143c-ad40-4359-bbb3-e591df7bec60",
   "metadata": {},
   "source": [
    "`예제 4-1` 상하좌우   \n",
    "현 위치가 (x, y)일 때   \n",
    "L -> (x, y - 1)   \n",
    "R -> (x, y + 1)   \n",
    "U -> (x - 1, y)   \n",
    "D -> (x + 1, y)   "
   ]
  },
  {
   "cell_type": "code",
   "execution_count": 10,
   "id": "212926b2-fad8-44a6-980e-c83926654b18",
   "metadata": {},
   "outputs": [
    {
     "name": "stdin",
     "output_type": "stream",
     "text": [
      " 2\n",
      " R R R R U U U D\n"
     ]
    },
    {
     "data": {
      "text/plain": [
       "(2, 2)"
      ]
     },
     "execution_count": 10,
     "metadata": {},
     "output_type": "execute_result"
    }
   ],
   "source": [
    "n = int(input())\n",
    "plan = input().split()\n",
    "\n",
    "x, y = 1, 1\n",
    "for c in plan:\n",
    "    if c == 'L' and y > 1:\n",
    "        y -= 1\n",
    "    elif c == 'R' and y < n:\n",
    "        y += 1\n",
    "    elif c == 'U' and x > 1:\n",
    "        x -= 1\n",
    "    elif c == 'D' and x < n:\n",
    "        x += 1\n",
    "(x, y)"
   ]
  },
  {
   "cell_type": "markdown",
   "id": "0abeac19-d3ce-406b-a518-4a97ba872ac7",
   "metadata": {},
   "source": [
    "`예제 4-2` 시각"
   ]
  },
  {
   "cell_type": "code",
   "execution_count": 14,
   "id": "f5330ef7-44a4-49b4-bb42-ccf77dd05e08",
   "metadata": {},
   "outputs": [
    {
     "name": "stdin",
     "output_type": "stream",
     "text": [
      " 5\n"
     ]
    },
    {
     "data": {
      "text/plain": [
       "11475"
      ]
     },
     "execution_count": 14,
     "metadata": {},
     "output_type": "execute_result"
    }
   ],
   "source": [
    "n = int(input())\n",
    "\n",
    "hour, minute, second = 0, 0, 0\n",
    "count = 0\n",
    "while hour <= n:\n",
    "    if '3' in str(hour) or '3' in str(minute) or '3' in str(second):\n",
    "        count += 1\n",
    "        \n",
    "    second += 1\n",
    "    if second > 59:\n",
    "        second = 0\n",
    "        minute += 1\n",
    "    if minute > 59:\n",
    "        minute = 0\n",
    "        hour += 1\n",
    "count"
   ]
  },
  {
   "cell_type": "markdown",
   "id": "5da1dab9-314e-4495-a82e-43ad1c829f37",
   "metadata": {},
   "source": [
    "`실전문제 2` 왕실의 나이트"
   ]
  },
  {
   "cell_type": "code",
   "execution_count": 31,
   "id": "42ee228e-5da9-4b49-9e20-8dc2f71c8969",
   "metadata": {},
   "outputs": [
    {
     "name": "stdin",
     "output_type": "stream",
     "text": [
      " a1\n"
     ]
    },
    {
     "data": {
      "text/plain": [
       "2"
      ]
     },
     "execution_count": 31,
     "metadata": {},
     "output_type": "execute_result"
    }
   ],
   "source": [
    "from itertools import product\n",
    "\n",
    "x, y = input()\n",
    "\n",
    "x = 'abcdefgh'.index(x)\n",
    "y = '12345678'.index(y)\n",
    "\n",
    "boundary = range(0,8)\n",
    "moves = list(product([1,-1], [2,-2])) + list(product([2,-2], [1,-1]))\n",
    "\n",
    "count = 0\n",
    "for move in moves:\n",
    "    if x + move[0] in boundary and y + move[1] in boundary: # in 키워드는 O(n)\n",
    "        count += 1\n",
    "count"
   ]
  },
  {
   "cell_type": "markdown",
   "id": "7e30c7eb-acb9-4a47-bd99-aa0b6b279df7",
   "metadata": {},
   "source": [
    "`실전문제 3` 게임 개발     \n",
    "    \n",
    "- map_state = [[1,1,1,1], [1,0,0,1]] 이중 리스트   \n",
    "- 방문한 육지는 2로 변경\n",
    "- map_state[y][x]로 접근 가능"
   ]
  },
  {
   "cell_type": "code",
   "execution_count": 6,
   "id": "276cad4c-78f0-4db1-a5c0-34b7651b3feb",
   "metadata": {},
   "outputs": [],
   "source": [
    "def print_state(y, x, d, map_state):\n",
    "    di = ['↑', '→', '↓', '←']\n",
    "    for i, li in enumerate(map_state):\n",
    "        for j, c in enumerate(li):\n",
    "            if y == i and x == j:\n",
    "                print(str(c)+di[d], end=' ')\n",
    "            else:\n",
    "                print(c, end=' ')\n",
    "        print()\n",
    "    print()"
   ]
  },
  {
   "cell_type": "code",
   "execution_count": 7,
   "id": "0dd13af7-360a-4ae2-bfb8-344b44062629",
   "metadata": {},
   "outputs": [
    {
     "name": "stdout",
     "output_type": "stream",
     "text": [
      "1 1 1 1 \n",
      "1 0↑ 0 1 \n",
      "1 1 0 1 \n",
      "1 1 1 1 \n",
      "\n"
     ]
    }
   ],
   "source": [
    "map_state = [[1, 1, 1, 1], [1, 0, 0, 1], [1, 1, 0, 1], [1, 1, 1, 1]]\n",
    "y, x, d = 1, 1, 0\n",
    "\n",
    "print_state(y, x, d, map_state)"
   ]
  },
  {
   "attachments": {
    "f265448e-ae3a-40b1-8b2c-b2ef1845550c.png": {
     "image/png": "[encoded data removed]"
    }
   },
   "cell_type": "markdown",
   "id": "458bdb80-452b-48c7-94d6-0257ee731870",
   "metadata": {},
   "source": [
    "![image.png](attachment:f265448e-ae3a-40b1-8b2c-b2ef1845550c.png)   \n",
    "전진해야 되는거 아니냐고 ;;"
   ]
  },
  {
   "cell_type": "markdown",
   "id": "57ea00a2-d992-413d-a03e-70a0efd027ae",
   "metadata": {},
   "source": [
    "#### 그런 줄 알고 짠 첫 번째 코드"
   ]
  },
  {
   "cell_type": "code",
   "execution_count": 15,
   "id": "4562228b-4776-4f15-b742-3a94aff84ad7",
   "metadata": {},
   "outputs": [],
   "source": [
    "def play_game(n, m, y, x, d, map_state):\n",
    "    \n",
    "    map_state[y][x] = 2\n",
    "\n",
    "    while True:\n",
    "        print_state(y, x, d, map_state)\n",
    "\n",
    "        moved = False\n",
    "        for i in range(4):\n",
    "            d = (d - 1) % 4\n",
    "            print('turning left...')\n",
    "            if d == 0:\n",
    "                if sum([map_state[_y][x] == 0 for _y in range(y - 1, -1, -1)]) > 0\\\n",
    "                    and map_state[y - 1][x] != 1:\n",
    "                    y -= 1\n",
    "                    map_state[y][x] = 2\n",
    "                    moved = True\n",
    "                    print('moving north...')\n",
    "                    break\n",
    "            elif d == 1:\n",
    "                if sum([map_state[y][_x] == 0 for _x in range(x + 1, m)]) > 0\\\n",
    "                    and map_state[y][x + 1] != 1:\n",
    "                    x += 1\n",
    "                    map_state[y][x] = 2\n",
    "                    moved = True\n",
    "                    print('moving east...')\n",
    "                    break\n",
    "            elif d == 2:\n",
    "                if sum([map_state[_y][x] == 0 for _y in range(y + 1, n)]) > 0\\\n",
    "                    and map_state[y + 1][x] != 1:\n",
    "                    y += 1\n",
    "                    map_state[y][x] = 2\n",
    "                    moved = True\n",
    "                    print('moving south...')\n",
    "                    break\n",
    "            else:\n",
    "                if sum([map_state[y][_x] == 0 for _x in range(x - 1, -1, -1)]) > 0\\\n",
    "                    and map_state[y][x - 1] != 1:\n",
    "                    x -= 1\n",
    "                    map_state[y][x] = 2\n",
    "                    moved = True\n",
    "                    print('moving west...')\n",
    "                    break\n",
    "\n",
    "\n",
    "        if not moved:\n",
    "            print('moving backward...')\n",
    "            if d == 0 and y < n - 1 and map_state[y + 1][x] != 1:\n",
    "                y += 1\n",
    "            elif d == 1 and x > 0 and map_state[y][x - 1] != 1:\n",
    "                x -= 1\n",
    "            elif d == 2 and y > 0 and map_state[y - 1][x] != 1:\n",
    "                y -= 1\n",
    "            elif d == 3 and x < m - 1 and map_state[y][x + 1] != 1:\n",
    "                x += 1\n",
    "            else:\n",
    "                print('game over...')\n",
    "                break\n",
    "                \n",
    "    print(f'Number of visited cells : {sum([sum([i == 2 for i in li]) for li in map_state])}')"
   ]
  },
  {
   "cell_type": "code",
   "execution_count": 16,
   "id": "e79ac23e-362d-4403-8aff-5f260c920bcc",
   "metadata": {
    "tags": []
   },
   "outputs": [
    {
     "name": "stdin",
     "output_type": "stream",
     "text": [
      " 4 4\n",
      " 1 1 0\n",
      " 1 1 1 1\n",
      " 1 0 0 1\n",
      " 1 1 0 1\n",
      " 1 1 1 1\n"
     ]
    },
    {
     "name": "stdout",
     "output_type": "stream",
     "text": [
      "1 1 1 1 \n",
      "1 2↑ 0 1 \n",
      "1 1 0 1 \n",
      "1 1 1 1 \n",
      "\n",
      "turning left...\n",
      "turning left...\n",
      "turning left...\n",
      "moving east...\n",
      "1 1 1 1 \n",
      "1 2 2→ 1 \n",
      "1 1 0 1 \n",
      "1 1 1 1 \n",
      "\n",
      "turning left...\n",
      "turning left...\n",
      "turning left...\n",
      "moving south...\n",
      "1 1 1 1 \n",
      "1 2 2 1 \n",
      "1 1 2↓ 1 \n",
      "1 1 1 1 \n",
      "\n",
      "turning left...\n",
      "turning left...\n",
      "turning left...\n",
      "turning left...\n",
      "moving backward...\n",
      "1 1 1 1 \n",
      "1 2 2↓ 1 \n",
      "1 1 2 1 \n",
      "1 1 1 1 \n",
      "\n",
      "turning left...\n",
      "turning left...\n",
      "turning left...\n",
      "turning left...\n",
      "moving backward...\n",
      "game over...\n",
      "Number of visited cells : 3\n"
     ]
    }
   ],
   "source": [
    "n, m = [int(i) for i in input().split()]\n",
    "y, x, d = [int(i) for i in input().split()]\n",
    "\n",
    "map_state = []\n",
    "for _ in range(n):\n",
    "    map_state.append([int(i) for i in input().split()])\n",
    "    \n",
    "play_game(n, m, y, x, d, map_state)"
   ]
  }
 ],
 "metadata": {
  "kernelspec": {
   "display_name": "Python 3 (ipykernel)",
   "language": "python",
   "name": "python3"
  },
  "language_info": {
   "codemirror_mode": {
    "name": "ipython",
    "version": 3
   },
   "file_extension": ".py",
   "mimetype": "text/x-python",
   "name": "python",
   "nbconvert_exporter": "python",
   "pygments_lexer": "ipython3",
   "version": "3.8.12"
  }
 },
 "nbformat": 4,
 "nbformat_minor": 5
}
