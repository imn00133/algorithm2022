{
 "cells": [
  {
   "cell_type": "markdown",
   "id": "7904dbd4-6769-4dc2-bbcf-d687f6ba05b2",
   "metadata": {},
   "source": [
    "`07` 럭키 스트레이트"
   ]
  },
  {
   "cell_type": "code",
   "execution_count": 1,
   "id": "60211e84-5954-426a-b547-0bd80fa1731e",
   "metadata": {},
   "outputs": [
    {
     "name": "stdin",
     "output_type": "stream",
     "text": [
      " 123123\n"
     ]
    },
    {
     "name": "stdout",
     "output_type": "stream",
     "text": [
      "LUCKY\n"
     ]
    }
   ],
   "source": [
    "n = input()\n",
    "l = len(n) // 2\n",
    "if sum([int(i) for i in n[:l]]) == sum([int(i) for i in n[l:]]):\n",
    "    print('LUCKY')\n",
    "else:\n",
    "    print('READY')"
   ]
  },
  {
   "cell_type": "markdown",
   "id": "ea1c18f5-d860-479e-b6f2-5e6612644306",
   "metadata": {},
   "source": [
    "`09` 문자열 압축   \n",
    "```python\n",
    "['abc', 'abc', 'abc', 'aaa', 'def', 'def']\n",
    "conti_li = [3,2]\n",
    "score = (글자수) * (연속한 횟수 -1) - (앞에 붙는 숫자의 길이)\n",
    "```"
   ]
  },
  {
   "cell_type": "code",
   "execution_count": 54,
   "id": "61421aaa-fbe1-45c2-843c-ac5c7cd019d2",
   "metadata": {},
   "outputs": [],
   "source": [
    "import math\n",
    "\n",
    "def solution(s):\n",
    "    max_score = 0 # 압축으로 이득 본 글자 수\n",
    "\n",
    "    for l in range(1, len(s) // 2 + 1):\n",
    "        conti_li = []\n",
    "        conti = 1\n",
    "        for i in range(math.ceil(len(s) / l)): # l개씩 끊어읽기\n",
    "            piece = s[i * l:(i + 1) * l]\n",
    "            if i == 0:\n",
    "                prev = piece\n",
    "                continue\n",
    "\n",
    "            if piece == prev:\n",
    "                conti += 1\n",
    "            else:\n",
    "                if conti > 1:\n",
    "                    conti_li.append(conti)\n",
    "                conti = 1\n",
    "                prev = piece\n",
    "\n",
    "        if conti > 1:\n",
    "            conti_li.append(conti) # 마지막에도 연속한 게 있으면 추가\n",
    "\n",
    "        score = 0\n",
    "        for conti in conti_li:\n",
    "            score += l * (conti - 1)\n",
    "            score -= len(str(conti))\n",
    "        if score > max_score:\n",
    "            max_score = score\n",
    "\n",
    "    return len(s) - max_score"
   ]
  },
  {
   "cell_type": "code",
   "execution_count": 55,
   "id": "7df1121b-f3b3-4a34-8fe6-cf6127a3072d",
   "metadata": {},
   "outputs": [
    {
     "name": "stdin",
     "output_type": "stream",
     "text": [
      " aabbaccc\n"
     ]
    },
    {
     "data": {
      "text/plain": [
       "7"
      ]
     },
     "execution_count": 55,
     "metadata": {},
     "output_type": "execute_result"
    }
   ],
   "source": [
    "s = input()\n",
    "solution(s)"
   ]
  },
  {
   "cell_type": "markdown",
   "id": "7b1d482d-3027-4b16-9f44-bfc762bd7028",
   "metadata": {},
   "source": [
    "`11` 뱀"
   ]
  },
  {
   "cell_type": "code",
   "execution_count": 68,
   "id": "59be6104-e178-4a40-8ae8-001065413b30",
   "metadata": {},
   "outputs": [
    {
     "name": "stdin",
     "output_type": "stream",
     "text": [
      " 10\n",
      " 4\n",
      " 1 2\n",
      " 1 3\n",
      " 1 4\n",
      " 1 5\n",
      " 4\n",
      " 8 D\n",
      " 10 D\n",
      " 11 D\n",
      " 13 L\n"
     ]
    },
    {
     "name": "stdout",
     "output_type": "stream",
     "text": [
      "21\n"
     ]
    }
   ],
   "source": [
    "import operator\n",
    "\n",
    "DIRECTIONS = [(0, 1), (1, 0), (0, -1), (-1, 0)]\n",
    "\n",
    "\n",
    "class snake():\n",
    "    \n",
    "    def __init__(self):\n",
    "        \n",
    "        self.coords = [(0, 0)]\n",
    "        self.direction = 0\n",
    "        self.dead = False\n",
    "        \n",
    "        \n",
    "    def move(self, board):\n",
    "        \n",
    "        head = tuple(map(operator.add, self.coords[0], DIRECTIONS[self.direction]))\n",
    "        if min(head) < 0 or max(head) >= board.n or head in self.coords: # 벽 또는 자신의 몸을 만난 경우\n",
    "            self.dead = True\n",
    "        elif board.state[head[0]][head[1]] == 1: # 사과를 만난 경우\n",
    "            self.coords.insert(0, head)\n",
    "            board.erase_apple(head)\n",
    "        else:\n",
    "            self.coords.insert(0, head)\n",
    "            del self.coords[-1] # remove tail\n",
    "                    \n",
    "                \n",
    "    def rotate(self, ld):\n",
    "        if ld == 'D':\n",
    "            self.direction = (self.direction + 1) % 4\n",
    "        elif ld == 'L':\n",
    "            self.direction = (self.direction - 1) % 4\n",
    "    \n",
    "\n",
    "    \n",
    "class board():\n",
    "    \n",
    "    def __init__(self, n, k_coords):\n",
    "        \n",
    "        self.n = n\n",
    "        self.state = [[0 for i in range(n)] for i in range(n)]\n",
    "        for y, x in k_coords:\n",
    "            self.state[y - 1][x - 1] = 1\n",
    "               \n",
    "                \n",
    "    def erase_apple(self, coord):\n",
    "        \n",
    "        self.state[coord[0]][coord[1]] = 0\n",
    "\n",
    "\n",
    "def play_game(snake, board, rotate_plan):\n",
    "    passed_time = 0\n",
    "\n",
    "    while not snake.dead:\n",
    "        snake.move(board)\n",
    "        passed_time += 1\n",
    "\n",
    "        if rotate_plan and passed_time == rotate_plan[0][0]:\n",
    "            snake.rotate(rotate_plan.pop(0)[1])\n",
    "        \n",
    "    return passed_time\n",
    "\n",
    "\n",
    "n = int(input())\n",
    "k = int(input())\n",
    "k_coords = [tuple([int(i) for i in input().split()]) for _ in range(k)]\n",
    "\n",
    "l = int(input())\n",
    "rotate_plan = [[i for i in input().split()] for _ in range(l)]\n",
    "rotate_plan = [(int(i[0]), i[1]) for i in rotate_plan]\n",
    "\n",
    "snake = snake()\n",
    "board = board(n, k_coords)\n",
    "print(play_game(snake, board, rotate_plan))"
   ]
  },
  {
   "cell_type": "markdown",
   "id": "5ba89c31-a1b2-4174-adbb-39822d9f3856",
   "metadata": {},
   "source": [
    "`13` 치킨 배달"
   ]
  },
  {
   "cell_type": "code",
   "execution_count": 69,
   "id": "c16c2411-6680-4814-b605-a5e800b42615",
   "metadata": {},
   "outputs": [],
   "source": [
    "n, m = 5, 3\n",
    "map_state = [[0, 0, 1, 0, 0],\n",
    "             [0, 0, 2, 0, 1],\n",
    "             [0, 1, 2, 0, 0],\n",
    "             [0, 0, 1, 0, 0],\n",
    "             [0, 0, 0, 0, 2]]"
   ]
  },
  {
   "cell_type": "code",
   "execution_count": 85,
   "id": "73de978b-85ff-4bd0-803f-c25501c4a9af",
   "metadata": {},
   "outputs": [],
   "source": [
    "from itertools import combinations\n",
    "\n",
    "def cal_dist(house, chicken):\n",
    "    return abs(house[0] - chicken[0]) + abs(house[1] - chicken[1])\n",
    "\n",
    "\n",
    "def sum_dist(chickens_candidates):\n",
    "    ans = 0\n",
    "    for house in houses:\n",
    "        ans += min([cal_dist(house, chicken) for chicken in chickens_candidates])\n",
    "    return ans\n",
    "\n",
    "\n",
    "n, m = [int(i) for i in input().split()]\n",
    "map_state = [[int(i) for i in input().split()] for row in range(n)]\n",
    "\n",
    "\n",
    "chickens = []\n",
    "houses = []\n",
    "for y, row in enumerate(map_state):\n",
    "    for x, val in enumerate(row):\n",
    "        if val == 1:\n",
    "            houses.append((y, x))\n",
    "        if val == 2:\n",
    "            chickens.append((y, x))\n",
    "\n",
    "chicken_dist = min([sum_dist(chickens_candidates) for chickens_candidates in combinations(chickens, m)])\n",
    "print(chicken_dist)"
   ]
  },
  {
   "cell_type": "markdown",
   "id": "be35c44e-db81-4819-ad20-fb5b5453725e",
   "metadata": {},
   "source": [
    "`08` 문자열 재정렬   "
   ]
  },
  {
   "cell_type": "code",
   "execution_count": 11,
   "id": "dfa88af8-9669-4473-ad5b-89fecd1aad67",
   "metadata": {},
   "outputs": [
    {
     "name": "stdin",
     "output_type": "stream",
     "text": [
      " K1K5\n"
     ]
    },
    {
     "name": "stdout",
     "output_type": "stream",
     "text": [
      "KK6\n"
     ]
    }
   ],
   "source": [
    "#s = 'AJKDLSI412K4JSJ9D'\n",
    "s = input()\n",
    "\n",
    "_s = ''\n",
    "_n = 0\n",
    "for c in s:\n",
    "    if ord(c) >= 65:\n",
    "        _s += c # 문자열 더해서 새로 만드는 것보다 리스트에 집어넣고 마지막에만 join하는 게 더 빠름\n",
    "    else:\n",
    "        _n += int(c)\n",
    "\n",
    "print(''.join(sorted(_s)) + str(_n))"
   ]
  },
  {
   "attachments": {
    "438b2b7d-621f-436c-8fb8-3f0c0566eb3a.png": {
     "image/png": "[encoded data removed]"
    }
   },
   "cell_type": "markdown",
   "id": "d6e2e8b3-d055-4254-8708-84fef49ecf36",
   "metadata": {},
   "source": [
    "`10` 자물쇠와 열쇠   \n",
    "![image.png](attachment:438b2b7d-621f-436c-8fb8-3f0c0566eb3a.png)"
   ]
  },
  {
   "cell_type": "code",
   "execution_count": 1,
   "id": "4f44ae7e-58f0-4ef1-9e3c-271f5dfc47f2",
   "metadata": {},
   "outputs": [],
   "source": [
    "key = [[0, 0, 0], [1, 0, 0], [0, 1, 1]]\n",
    "lock = [[1, 1, 1], [1, 1, 0], [1, 0, 1]]"
   ]
  },
  {
   "cell_type": "code",
   "execution_count": 3,
   "id": "db135001-0cc1-4f84-af13-09f248d23af0",
   "metadata": {
    "tags": []
   },
   "outputs": [],
   "source": [
    "def get_key_coords(key):\n",
    "    key_coords = []\n",
    "    for y, row in enumerate(key):\n",
    "        for x, val in enumerate(row):\n",
    "            if val == 1:\n",
    "                key_coords.append((y, x))\n",
    "    return key_coords\n",
    "            \n",
    "def get_lock_coords(lock):\n",
    "    lock_coords = []\n",
    "    for y, row in enumerate(lock):\n",
    "        for x, val in enumerate(row):\n",
    "            if val == 1:\n",
    "                lock_coords.append((y, x))\n",
    "    return lock_coords\n",
    "\n",
    "def make_board(lock_coords):\n",
    "    board = [[0 for _ in range(n + 2*m - 2)] for _ in range(n + 2*m - 2)]\n",
    "    for y, x in lock_coords:\n",
    "        board[y + m - 1][x + m - 1] += 1\n",
    "    return board\n",
    "\n",
    "def put_key(board, key_coords, j, i):\n",
    "    for y, x in key_coords:\n",
    "        board[y + j][x + i] += 1\n",
    "    return board\n",
    "\n",
    "def check(board):\n",
    "    for y in range(m - 1, n + m - 1):\n",
    "        for x in range(m - 1, n + m - 1):\n",
    "            if board[y][x] != 1:\n",
    "                return False\n",
    "    return True\n",
    "\n",
    "def rotate_clockwise(key_coords):\n",
    "    return [(i, m - j - 1) for j, i in key_coords]\n",
    "\n",
    "def solution(key, lock):\n",
    "    key_coords = get_key_coords(key)\n",
    "    lock_coords = get_lock_coords(lock)\n",
    "    \n",
    "    global m\n",
    "    m = len(key)\n",
    "    global n\n",
    "    n = len(lock)\n",
    "    for r in range(4):\n",
    "        for j in range(n + m - 1):\n",
    "            for i in range(n + m - 1):\n",
    "                board = make_board(lock_coords)\n",
    "                board = put_key(board, key_coords, j, i)\n",
    "                \n",
    "                if check(board):\n",
    "                    return True\n",
    "        key_coords = rotate_clockwise(key_coords)\n",
    "    return False"
   ]
  },
  {
   "cell_type": "code",
   "execution_count": 4,
   "id": "f2aad87b-d77d-4f52-bc49-96527d8f603d",
   "metadata": {},
   "outputs": [
    {
     "data": {
      "text/plain": [
       "True"
      ]
     },
     "execution_count": 4,
     "metadata": {},
     "output_type": "execute_result"
    }
   ],
   "source": [
    "solution(key, lock)"
   ]
  },
  {
   "cell_type": "markdown",
   "id": "a3597d81-0281-46b2-a690-171e762957a7",
   "metadata": {},
   "source": [
    "`12` 기둥과 보 설치"
   ]
  },
  {
   "cell_type": "code",
   "execution_count": 6,
   "id": "f333877c-14e4-4dd2-b559-ffa9b102c80f",
   "metadata": {},
   "outputs": [],
   "source": [
    "n = 5\n",
    "build_frame = \t[[0,0,0,1],[2,0,0,1],[4,0,0,1],[0,1,1,1],[1,1,1,1],[2,1,1,1],[3,1,1,1],[2,0,0,0],[1,1,1,0],[2,2,0,1]]"
   ]
  },
  {
   "cell_type": "code",
   "execution_count": null,
   "id": "3116c421-cd25-49b3-ac1a-f11ea424f16c",
   "metadata": {},
   "outputs": [],
   "source": [
    "def valid_gidung(x, y):\n",
    "    return y == 0 or ([x - 1, y, 1] in state) or ([x, y, 1] in state) or ([x, y - 1, 0] in state)\n",
    "    \n",
    "def valid_bo(x, y):\n",
    "    return ([x, y - 1, 0] in state) or ([x + 1, y - 1, 0] in state) or (([x - 1, y, 1] in state) and ([x + 1, y, 1] in state))\n",
    "\n",
    "def add_gidung(x, y):\n",
    "    if valid_gidung(x, y):\n",
    "        state.append([x, y, 0])\n",
    "\n",
    "def add_bo(x, y):\n",
    "    if valid_bo(x, y):\n",
    "        state.append([x, y, 1])\n",
    "                     \n",
    "def remove_gidung(x, y):\n",
    "    state.remove([x, y, 0])\n",
    "    if ([x, y + 1, 0] in state and not valid_gidung(x, y + 1)) or ([x - 1, y + 1, 1] in state and not valid_bo(x - 1, y + 1)) or ([x, y + 1, 1] in state and not valid_bo(x, y + 1)):\n",
    "        state.append([x, y, 0])\n",
    "        \n",
    "def remove_bo(x, y):\n",
    "    state.remove([x, y, 1])\n",
    "    if (([x, y, 0] in state and not valid_gidung(x, y)) or ([x + 1, y, 0] in state and not valid_gidung(x + 1, y)) or ([x - 1, y, 1] in state and not valid_bo(x - 1, y)) or ([x + 1, y, 1] in state and not valid_bo(x + 1, y))):\n",
    "        state.append([x, y, 1])\n",
    "\n",
    "def solution(n, build_frame):\n",
    "    global state\n",
    "    state = []\n",
    "    for x, y, a, b in build_frame:\n",
    "        \n",
    "        if b == 1: # 설치\n",
    "            if a == 0: #기둥\n",
    "                add_gidung(x, y)\n",
    "            else:\n",
    "                add_bo(x, y)\n",
    "        else:\n",
    "            if a == 0:\n",
    "                remove_gidung(x, y)\n",
    "            else:\n",
    "                remove_bo(x, y)\n",
    "        # print(state)\n",
    "    \n",
    "    state.sort()\n",
    "    return state"
   ]
  },
  {
   "cell_type": "code",
   "execution_count": 18,
   "id": "1d923f89-fa0e-41a3-afce-370d6f94b210",
   "metadata": {},
   "outputs": [
    {
     "name": "stdout",
     "output_type": "stream",
     "text": [
      "[[0, 0, 0]]\n",
      "[[0, 0, 0], [2, 0, 0]]\n",
      "[[0, 0, 0], [2, 0, 0], [4, 0, 0]]\n",
      "[[0, 0, 0], [2, 0, 0], [4, 0, 0], [0, 1, 1]]\n",
      "[[0, 0, 0], [2, 0, 0], [4, 0, 0], [0, 1, 1], [1, 1, 1]]\n",
      "[[0, 0, 0], [2, 0, 0], [4, 0, 0], [0, 1, 1], [1, 1, 1], [2, 1, 1]]\n",
      "[[0, 0, 0], [2, 0, 0], [4, 0, 0], [0, 1, 1], [1, 1, 1], [2, 1, 1], [3, 1, 1]]\n",
      "[[0, 0, 0], [4, 0, 0], [0, 1, 1], [1, 1, 1], [2, 1, 1], [3, 1, 1]]\n",
      "[[0, 0, 0], [4, 0, 0], [0, 1, 1], [2, 1, 1], [3, 1, 1], [1, 1, 1]]\n",
      "[[0, 0, 0], [4, 0, 0], [0, 1, 1], [2, 1, 1], [3, 1, 1], [1, 1, 1]]\n"
     ]
    },
    {
     "data": {
      "text/plain": [
       "[[0, 0, 0], [0, 1, 1], [1, 1, 1], [2, 1, 1], [3, 1, 1], [4, 0, 0]]"
      ]
     },
     "execution_count": 18,
     "metadata": {},
     "output_type": "execute_result"
    }
   ],
   "source": [
    "solution(n, build_frame)"
   ]
  },
  {
   "cell_type": "markdown",
   "id": "14829270-e228-4040-baf1-dc83188b3a60",
   "metadata": {},
   "source": [
    "`14` 외벽 점검"
   ]
  },
  {
   "cell_type": "markdown",
   "id": "5d2c4605-fecc-4b1c-b0fb-e5fd8ee86925",
   "metadata": {},
   "source": [
    "띠의 가장 긴 조각을 제외하고 n(친구수)조각으로 나누는 문제. 단, 조각을 자를 때마다 취약 지점이 없는 부분은 버린다.   \n",
    "- n=1,2,3... 으로 증가(greedy)   \n",
    "- 어떻게 조각을 자를지는 완전탐색\n",
    "- 잘랐을 때 각각의 조각의 크기가 dist의 원소의 크기보다 작거나 같으면 된다."
   ]
  },
  {
   "cell_type": "code",
   "execution_count": 92,
   "id": "c6aebae9-ab1a-4d21-ac05-3b5d3f276474",
   "metadata": {},
   "outputs": [],
   "source": [
    "from itertools import combinations\n",
    "\n",
    "def solution(n, weak, dist):\n",
    "    weak_dist = [weak[i] - weak[i-1] for i in range(len(weak))]\n",
    "    weak_dist[0] = weak_dist[0] + n\n",
    "    dist = sorted(dist)\n",
    "    \n",
    "    n_friend = 1\n",
    "    \n",
    "    while True:\n",
    "        selected_dist = dist[-1 : -1 - n_friend : -1]\n",
    "        \n",
    "        for exclude_index in combinations(range(len(weak_dist)), n_friend):\n",
    "            _weak_dist = weak_dist.copy()\n",
    "            for index in exclude_index:\n",
    "                _weak_dist[index] = 0\n",
    "\n",
    "            opt_pieces = []\n",
    "            tmp_sum = 0\n",
    "            for d in _weak_dist:\n",
    "                if d == 0:\n",
    "                    opt_pieces.append(tmp_sum)\n",
    "                    tmp_sum = 0\n",
    "                tmp_sum += d\n",
    "            opt_pieces[0] = opt_pieces[0] + tmp_sum\n",
    "            opt_pieces = sorted(opt_pieces, reverse=True)\n",
    "\n",
    "            success = True\n",
    "            for s, o in zip(selected_dist, opt_pieces):\n",
    "                if s < o:\n",
    "                    success = False\n",
    "                    continue\n",
    "            if success:\n",
    "                return n_friend\n",
    "\n",
    "        n_friend += 1\n",
    "        if n_friend > len(dist):\n",
    "            return -1"
   ]
  },
  {
   "cell_type": "code",
   "execution_count": 93,
   "id": "97b1768e-2ae6-409b-a8e0-364f47d6140f",
   "metadata": {},
   "outputs": [
    {
     "data": {
      "text/plain": [
       "3"
      ]
     },
     "execution_count": 93,
     "metadata": {},
     "output_type": "execute_result"
    }
   ],
   "source": [
    "n = 200\n",
    "weak = [0,40,80,120,160]\n",
    "dist = [40,40,40,40,40,40]\n",
    "\n",
    "solution(n, weak, dist)"
   ]
  },
  {
   "cell_type": "code",
   "execution_count": 94,
   "id": "c095f2cb-b22e-4c9b-bc71-f90546ec4c2b",
   "metadata": {},
   "outputs": [],
   "source": [
    "#### 완전탐색 대신 큰 조각을 버리면 되지 않을까 했는데, 방금 자른 부분 바로 옆을 버리는 건 손해\n",
    "\n",
    "# def solution(n, weak, dist):\n",
    "#     weak_dist = [weak[i] - weak[i-1] for i in range(len(weak))]\n",
    "#     weak_dist[0] = weak_dist[0] + n\n",
    "#     dist = sorted(dist)\n",
    "    \n",
    "#     n_friend = 1\n",
    "    \n",
    "#     while True:\n",
    "#         selected_dist = dist[-1 : -1 - n_friend : -1]\n",
    "#         max_dist = max(weak_dist)\n",
    "#         for i, d in enumerate(weak_dist):\n",
    "#             if d == max_dist:\n",
    "#                 weak_dist[i] = 0\n",
    "#                 break\n",
    "\n",
    "#         opt_pieces = []\n",
    "#         tmp_sum = 0\n",
    "#         for d in weak_dist:\n",
    "#             if d == 0:\n",
    "#                 opt_pieces.append(tmp_sum)\n",
    "#                 tmp_sum = 0\n",
    "#             tmp_sum += d\n",
    "#         opt_pieces[0] = opt_pieces[0] + tmp_sum\n",
    "#         opt_pieces = sorted(opt_pieces, reverse=True)\n",
    "    \n",
    "#         success = True\n",
    "#         for s, o in zip(selected_dist, opt_pieces):\n",
    "#             if s < o:\n",
    "#                 success = False\n",
    "#                 break\n",
    "#         if success:\n",
    "#             return n_friend\n",
    "        \n",
    "#         n_friend += 1\n",
    "#         if n_friend > len(dist):\n",
    "#             return -1"
   ]
  }
 ],
 "metadata": {
  "kernelspec": {
   "display_name": "Python 3 (ipykernel)",
   "language": "python",
   "name": "python3"
  },
  "language_info": {
   "codemirror_mode": {
    "name": "ipython",
    "version": 3
   },
   "file_extension": ".py",
   "mimetype": "text/x-python",
   "name": "python",
   "nbconvert_exporter": "python",
   "pygments_lexer": "ipython3",
   "version": "3.8.12"
  }
 },
 "nbformat": 4,
 "nbformat_minor": 5
}
